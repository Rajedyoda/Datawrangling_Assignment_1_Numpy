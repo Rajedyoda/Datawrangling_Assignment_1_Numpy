{
 "cells": [
  {
   "cell_type": "code",
   "execution_count": 29,
   "metadata": {},
   "outputs": [
    {
     "name": "stdout",
     "output_type": "stream",
     "text": [
      "[[ 2 53 28 99 31 47 42 37  8 46]\n",
      " [90 19 87 42 24 90  1  0  1  8]\n",
      " [45 27 95 34 12 46 76 95 42 23]\n",
      " [ 0 75  9 52 97 40 69 41 38 65]\n",
      " [88 25 93 55 10 46 35 11 54 31]\n",
      " [40 51 96 83 80 21 71 52 59 50]\n",
      " [76 66 53  7 30 67 90 48 24 52]\n",
      " [66 64 52 66 23  8 36 73 90  5]\n",
      " [33 45 94 32 75  2 84 48 46 53]\n",
      " [95 96 79 45 48 10 34 46 63 58]]\n",
      "0\n",
      "99\n"
     ]
    }
   ],
   "source": [
    "import numpy as np\n",
    "\n",
    "arr_1 = np.random.randint(100,size = (10,10))\n",
    "\n",
    "print(\"Array of random 10x10 is : \",arr_1)\n",
    "\n",
    "print(\"Minimum is: \", np.min(arr_1))\n",
    "\n",
    "print(\"Maximum is:\", np.max(arr_1))"
   ]
  }
 ],
 "metadata": {
  "kernelspec": {
   "display_name": "Python 3.10.4 64-bit",
   "language": "python",
   "name": "python3"
  },
  "language_info": {
   "codemirror_mode": {
    "name": "ipython",
    "version": 3
   },
   "file_extension": ".py",
   "mimetype": "text/x-python",
   "name": "python",
   "nbconvert_exporter": "python",
   "pygments_lexer": "ipython3",
   "version": "3.10.4"
  },
  "orig_nbformat": 4,
  "vscode": {
   "interpreter": {
    "hash": "5ceaf0fed632d95dc27150b9575d61e48f567687c64810253d882c031236c873"
   }
  }
 },
 "nbformat": 4,
 "nbformat_minor": 2
}
